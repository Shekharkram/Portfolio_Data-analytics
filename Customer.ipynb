{
 "cells": [
  {
   "cell_type": "markdown",
   "metadata": {},
   "source": [
    "## Data Analysis Workflow\n",
    "### Data Cleaning, Exploratory Data Analysis (EDA) and Data Visualizations."
   ]
  },
  {
   "cell_type": "markdown",
   "metadata": {},
   "source": [
    "### Importing Libraries"
   ]
  },
  {
   "cell_type": "code",
   "execution_count": 82,
   "metadata": {},
   "outputs": [],
   "source": [
    "import pandas as pd \n",
    "import numpy as ap\n",
    "from matplotlib import pyplot as plt\n",
    "import seaborn as sns\n"
   ]
  },
  {
   "cell_type": "markdown",
   "metadata": {},
   "source": [
    "### Loading the Dataset"
   ]
  },
  {
   "cell_type": "code",
   "execution_count": 83,
   "metadata": {},
   "outputs": [
    {
     "data": {
      "text/html": [
       "<div>\n",
       "<style scoped>\n",
       "    .dataframe tbody tr th:only-of-type {\n",
       "        vertical-align: middle;\n",
       "    }\n",
       "\n",
       "    .dataframe tbody tr th {\n",
       "        vertical-align: top;\n",
       "    }\n",
       "\n",
       "    .dataframe thead th {\n",
       "        text-align: right;\n",
       "    }\n",
       "</style>\n",
       "<table border=\"1\" class=\"dataframe\">\n",
       "  <thead>\n",
       "    <tr style=\"text-align: right;\">\n",
       "      <th></th>\n",
       "      <th>CustomerID</th>\n",
       "      <th>Gender</th>\n",
       "      <th>Age</th>\n",
       "      <th>Items Purchased</th>\n",
       "      <th>Category</th>\n",
       "      <th>Purchase Amount</th>\n",
       "      <th>Shipping Type</th>\n",
       "      <th>Profession</th>\n",
       "      <th>Subscription Status</th>\n",
       "      <th>Season</th>\n",
       "      <th>Country</th>\n",
       "    </tr>\n",
       "  </thead>\n",
       "  <tbody>\n",
       "    <tr>\n",
       "      <th>0</th>\n",
       "      <td>1</td>\n",
       "      <td>Male</td>\n",
       "      <td>18</td>\n",
       "      <td>Blouse</td>\n",
       "      <td>Clothing</td>\n",
       "      <td>50</td>\n",
       "      <td>Express</td>\n",
       "      <td>Healthcare</td>\n",
       "      <td>Yes</td>\n",
       "      <td>Spring</td>\n",
       "      <td>United States</td>\n",
       "    </tr>\n",
       "    <tr>\n",
       "      <th>1</th>\n",
       "      <td>2</td>\n",
       "      <td>Male</td>\n",
       "      <td>20</td>\n",
       "      <td>Sweater</td>\n",
       "      <td>Clothing</td>\n",
       "      <td>25</td>\n",
       "      <td>Free Shipping</td>\n",
       "      <td>Engineer</td>\n",
       "      <td>No</td>\n",
       "      <td>Summer</td>\n",
       "      <td>United States</td>\n",
       "    </tr>\n",
       "    <tr>\n",
       "      <th>2</th>\n",
       "      <td>3</td>\n",
       "      <td>Female</td>\n",
       "      <td>35</td>\n",
       "      <td>Jeans</td>\n",
       "      <td>Clothing</td>\n",
       "      <td>15</td>\n",
       "      <td>Next Day Air</td>\n",
       "      <td>Engineer</td>\n",
       "      <td>Yes</td>\n",
       "      <td>Fall</td>\n",
       "      <td>United States</td>\n",
       "    </tr>\n",
       "    <tr>\n",
       "      <th>3</th>\n",
       "      <td>4</td>\n",
       "      <td>Female</td>\n",
       "      <td>45</td>\n",
       "      <td>Sandals</td>\n",
       "      <td>Footwear</td>\n",
       "      <td>69</td>\n",
       "      <td>2-Day Shipping</td>\n",
       "      <td>Lawyer</td>\n",
       "      <td>No</td>\n",
       "      <td>Winter</td>\n",
       "      <td>United States</td>\n",
       "    </tr>\n",
       "    <tr>\n",
       "      <th>4</th>\n",
       "      <td>5</td>\n",
       "      <td>Female</td>\n",
       "      <td>60</td>\n",
       "      <td>Blouse</td>\n",
       "      <td>Clothing</td>\n",
       "      <td>85</td>\n",
       "      <td>2-Day Shipping</td>\n",
       "      <td>Entertainment</td>\n",
       "      <td>Yes</td>\n",
       "      <td>Winter</td>\n",
       "      <td>United States</td>\n",
       "    </tr>\n",
       "    <tr>\n",
       "      <th>...</th>\n",
       "      <td>...</td>\n",
       "      <td>...</td>\n",
       "      <td>...</td>\n",
       "      <td>...</td>\n",
       "      <td>...</td>\n",
       "      <td>...</td>\n",
       "      <td>...</td>\n",
       "      <td>...</td>\n",
       "      <td>...</td>\n",
       "      <td>...</td>\n",
       "      <td>...</td>\n",
       "    </tr>\n",
       "    <tr>\n",
       "      <th>2000</th>\n",
       "      <td>1996</td>\n",
       "      <td>Female</td>\n",
       "      <td>22</td>\n",
       "      <td>Boots</td>\n",
       "      <td>Footwear</td>\n",
       "      <td>45</td>\n",
       "      <td>Express</td>\n",
       "      <td>Artist</td>\n",
       "      <td>Yes</td>\n",
       "      <td>Summer</td>\n",
       "      <td>United States</td>\n",
       "    </tr>\n",
       "    <tr>\n",
       "      <th>2001</th>\n",
       "      <td>1997</td>\n",
       "      <td>Female</td>\n",
       "      <td>22</td>\n",
       "      <td>Boots</td>\n",
       "      <td>Footwear</td>\n",
       "      <td>77</td>\n",
       "      <td>Free Shipping</td>\n",
       "      <td>Doctor</td>\n",
       "      <td>Yes</td>\n",
       "      <td>Summer</td>\n",
       "      <td>Brazil</td>\n",
       "    </tr>\n",
       "    <tr>\n",
       "      <th>2002</th>\n",
       "      <td>1998</td>\n",
       "      <td>Male</td>\n",
       "      <td>22</td>\n",
       "      <td>Boots</td>\n",
       "      <td>Footwear</td>\n",
       "      <td>50</td>\n",
       "      <td>Next Day Air</td>\n",
       "      <td>Healthcare</td>\n",
       "      <td>Yes</td>\n",
       "      <td>Summer</td>\n",
       "      <td>United States</td>\n",
       "    </tr>\n",
       "    <tr>\n",
       "      <th>2003</th>\n",
       "      <td>1999</td>\n",
       "      <td>Male</td>\n",
       "      <td>22</td>\n",
       "      <td>Boots</td>\n",
       "      <td>Footwear</td>\n",
       "      <td>25</td>\n",
       "      <td>Express</td>\n",
       "      <td>Executive</td>\n",
       "      <td>Yes</td>\n",
       "      <td>Summer</td>\n",
       "      <td>Brazil</td>\n",
       "    </tr>\n",
       "    <tr>\n",
       "      <th>2004</th>\n",
       "      <td>2000</td>\n",
       "      <td>Male</td>\n",
       "      <td>22</td>\n",
       "      <td>Boots</td>\n",
       "      <td>Footwear</td>\n",
       "      <td>15</td>\n",
       "      <td>Free Shipping</td>\n",
       "      <td>Entertainment</td>\n",
       "      <td>Yes</td>\n",
       "      <td>Summer</td>\n",
       "      <td>United States</td>\n",
       "    </tr>\n",
       "  </tbody>\n",
       "</table>\n",
       "<p>2005 rows × 11 columns</p>\n",
       "</div>"
      ],
      "text/plain": [
       "      CustomerID  Gender  Age Items Purchased  Category  Purchase Amount  \\\n",
       "0              1    Male   18          Blouse  Clothing               50   \n",
       "1              2    Male   20         Sweater  Clothing               25   \n",
       "2              3  Female   35           Jeans  Clothing               15   \n",
       "3              4  Female   45         Sandals  Footwear               69   \n",
       "4              5  Female   60          Blouse  Clothing               85   \n",
       "...          ...     ...  ...             ...       ...              ...   \n",
       "2000        1996  Female   22           Boots  Footwear               45   \n",
       "2001        1997  Female   22           Boots  Footwear               77   \n",
       "2002        1998    Male   22           Boots  Footwear               50   \n",
       "2003        1999    Male   22           Boots  Footwear               25   \n",
       "2004        2000    Male   22           Boots  Footwear               15   \n",
       "\n",
       "       Shipping Type     Profession Subscription Status  Season        Country  \n",
       "0            Express     Healthcare                 Yes  Spring  United States  \n",
       "1      Free Shipping       Engineer                  No  Summer  United States  \n",
       "2       Next Day Air       Engineer                 Yes    Fall  United States  \n",
       "3     2-Day Shipping         Lawyer                  No  Winter  United States  \n",
       "4     2-Day Shipping  Entertainment                 Yes  Winter  United States  \n",
       "...              ...            ...                 ...     ...            ...  \n",
       "2000         Express         Artist                 Yes  Summer  United States  \n",
       "2001   Free Shipping         Doctor                 Yes  Summer         Brazil  \n",
       "2002    Next Day Air     Healthcare                 Yes  Summer  United States  \n",
       "2003         Express      Executive                 Yes  Summer         Brazil  \n",
       "2004   Free Shipping  Entertainment                 Yes  Summer  United States  \n",
       "\n",
       "[2005 rows x 11 columns]"
      ]
     },
     "execution_count": 83,
     "metadata": {},
     "output_type": "execute_result"
    }
   ],
   "source": [
    "df = pd.read_csv(r'C:\\Users\\shekharram\\OneDrive\\Desktop\\jupyter projects\\Data Geek\\Customer\\Customer - Sheet1.csv')\n",
    "df"
   ]
  },
  {
   "cell_type": "markdown",
   "metadata": {},
   "source": [
    "### Basic Information and Overview"
   ]
  },
  {
   "cell_type": "markdown",
   "metadata": {},
   "source": [
    "####  displaying the first few rows of the dataset:"
   ]
  },
  {
   "cell_type": "code",
   "execution_count": 84,
   "metadata": {},
   "outputs": [
    {
     "data": {
      "text/html": [
       "<div>\n",
       "<style scoped>\n",
       "    .dataframe tbody tr th:only-of-type {\n",
       "        vertical-align: middle;\n",
       "    }\n",
       "\n",
       "    .dataframe tbody tr th {\n",
       "        vertical-align: top;\n",
       "    }\n",
       "\n",
       "    .dataframe thead th {\n",
       "        text-align: right;\n",
       "    }\n",
       "</style>\n",
       "<table border=\"1\" class=\"dataframe\">\n",
       "  <thead>\n",
       "    <tr style=\"text-align: right;\">\n",
       "      <th></th>\n",
       "      <th>CustomerID</th>\n",
       "      <th>Gender</th>\n",
       "      <th>Age</th>\n",
       "      <th>Items Purchased</th>\n",
       "      <th>Category</th>\n",
       "      <th>Purchase Amount</th>\n",
       "      <th>Shipping Type</th>\n",
       "      <th>Profession</th>\n",
       "      <th>Subscription Status</th>\n",
       "      <th>Season</th>\n",
       "      <th>Country</th>\n",
       "    </tr>\n",
       "  </thead>\n",
       "  <tbody>\n",
       "    <tr>\n",
       "      <th>0</th>\n",
       "      <td>1</td>\n",
       "      <td>Male</td>\n",
       "      <td>18</td>\n",
       "      <td>Blouse</td>\n",
       "      <td>Clothing</td>\n",
       "      <td>50</td>\n",
       "      <td>Express</td>\n",
       "      <td>Healthcare</td>\n",
       "      <td>Yes</td>\n",
       "      <td>Spring</td>\n",
       "      <td>United States</td>\n",
       "    </tr>\n",
       "    <tr>\n",
       "      <th>1</th>\n",
       "      <td>2</td>\n",
       "      <td>Male</td>\n",
       "      <td>20</td>\n",
       "      <td>Sweater</td>\n",
       "      <td>Clothing</td>\n",
       "      <td>25</td>\n",
       "      <td>Free Shipping</td>\n",
       "      <td>Engineer</td>\n",
       "      <td>No</td>\n",
       "      <td>Summer</td>\n",
       "      <td>United States</td>\n",
       "    </tr>\n",
       "    <tr>\n",
       "      <th>2</th>\n",
       "      <td>3</td>\n",
       "      <td>Female</td>\n",
       "      <td>35</td>\n",
       "      <td>Jeans</td>\n",
       "      <td>Clothing</td>\n",
       "      <td>15</td>\n",
       "      <td>Next Day Air</td>\n",
       "      <td>Engineer</td>\n",
       "      <td>Yes</td>\n",
       "      <td>Fall</td>\n",
       "      <td>United States</td>\n",
       "    </tr>\n",
       "    <tr>\n",
       "      <th>3</th>\n",
       "      <td>4</td>\n",
       "      <td>Female</td>\n",
       "      <td>45</td>\n",
       "      <td>Sandals</td>\n",
       "      <td>Footwear</td>\n",
       "      <td>69</td>\n",
       "      <td>2-Day Shipping</td>\n",
       "      <td>Lawyer</td>\n",
       "      <td>No</td>\n",
       "      <td>Winter</td>\n",
       "      <td>United States</td>\n",
       "    </tr>\n",
       "    <tr>\n",
       "      <th>4</th>\n",
       "      <td>5</td>\n",
       "      <td>Female</td>\n",
       "      <td>60</td>\n",
       "      <td>Blouse</td>\n",
       "      <td>Clothing</td>\n",
       "      <td>85</td>\n",
       "      <td>2-Day Shipping</td>\n",
       "      <td>Entertainment</td>\n",
       "      <td>Yes</td>\n",
       "      <td>Winter</td>\n",
       "      <td>United States</td>\n",
       "    </tr>\n",
       "  </tbody>\n",
       "</table>\n",
       "</div>"
      ],
      "text/plain": [
       "   CustomerID  Gender  Age Items Purchased  Category  Purchase Amount  \\\n",
       "0           1    Male   18          Blouse  Clothing               50   \n",
       "1           2    Male   20         Sweater  Clothing               25   \n",
       "2           3  Female   35           Jeans  Clothing               15   \n",
       "3           4  Female   45         Sandals  Footwear               69   \n",
       "4           5  Female   60          Blouse  Clothing               85   \n",
       "\n",
       "    Shipping Type     Profession Subscription Status  Season        Country  \n",
       "0         Express     Healthcare                 Yes  Spring  United States  \n",
       "1   Free Shipping       Engineer                  No  Summer  United States  \n",
       "2    Next Day Air       Engineer                 Yes    Fall  United States  \n",
       "3  2-Day Shipping         Lawyer                  No  Winter  United States  \n",
       "4  2-Day Shipping  Entertainment                 Yes  Winter  United States  "
      ]
     },
     "execution_count": 84,
     "metadata": {},
     "output_type": "execute_result"
    }
   ],
   "source": [
    "df.head()"
   ]
  },
  {
   "cell_type": "markdown",
   "metadata": {},
   "source": [
    "#### displaying the last few rows:"
   ]
  },
  {
   "cell_type": "code",
   "execution_count": 85,
   "metadata": {},
   "outputs": [
    {
     "data": {
      "text/html": [
       "<div>\n",
       "<style scoped>\n",
       "    .dataframe tbody tr th:only-of-type {\n",
       "        vertical-align: middle;\n",
       "    }\n",
       "\n",
       "    .dataframe tbody tr th {\n",
       "        vertical-align: top;\n",
       "    }\n",
       "\n",
       "    .dataframe thead th {\n",
       "        text-align: right;\n",
       "    }\n",
       "</style>\n",
       "<table border=\"1\" class=\"dataframe\">\n",
       "  <thead>\n",
       "    <tr style=\"text-align: right;\">\n",
       "      <th></th>\n",
       "      <th>CustomerID</th>\n",
       "      <th>Gender</th>\n",
       "      <th>Age</th>\n",
       "      <th>Items Purchased</th>\n",
       "      <th>Category</th>\n",
       "      <th>Purchase Amount</th>\n",
       "      <th>Shipping Type</th>\n",
       "      <th>Profession</th>\n",
       "      <th>Subscription Status</th>\n",
       "      <th>Season</th>\n",
       "      <th>Country</th>\n",
       "    </tr>\n",
       "  </thead>\n",
       "  <tbody>\n",
       "    <tr>\n",
       "      <th>2000</th>\n",
       "      <td>1996</td>\n",
       "      <td>Female</td>\n",
       "      <td>22</td>\n",
       "      <td>Boots</td>\n",
       "      <td>Footwear</td>\n",
       "      <td>45</td>\n",
       "      <td>Express</td>\n",
       "      <td>Artist</td>\n",
       "      <td>Yes</td>\n",
       "      <td>Summer</td>\n",
       "      <td>United States</td>\n",
       "    </tr>\n",
       "    <tr>\n",
       "      <th>2001</th>\n",
       "      <td>1997</td>\n",
       "      <td>Female</td>\n",
       "      <td>22</td>\n",
       "      <td>Boots</td>\n",
       "      <td>Footwear</td>\n",
       "      <td>77</td>\n",
       "      <td>Free Shipping</td>\n",
       "      <td>Doctor</td>\n",
       "      <td>Yes</td>\n",
       "      <td>Summer</td>\n",
       "      <td>Brazil</td>\n",
       "    </tr>\n",
       "    <tr>\n",
       "      <th>2002</th>\n",
       "      <td>1998</td>\n",
       "      <td>Male</td>\n",
       "      <td>22</td>\n",
       "      <td>Boots</td>\n",
       "      <td>Footwear</td>\n",
       "      <td>50</td>\n",
       "      <td>Next Day Air</td>\n",
       "      <td>Healthcare</td>\n",
       "      <td>Yes</td>\n",
       "      <td>Summer</td>\n",
       "      <td>United States</td>\n",
       "    </tr>\n",
       "    <tr>\n",
       "      <th>2003</th>\n",
       "      <td>1999</td>\n",
       "      <td>Male</td>\n",
       "      <td>22</td>\n",
       "      <td>Boots</td>\n",
       "      <td>Footwear</td>\n",
       "      <td>25</td>\n",
       "      <td>Express</td>\n",
       "      <td>Executive</td>\n",
       "      <td>Yes</td>\n",
       "      <td>Summer</td>\n",
       "      <td>Brazil</td>\n",
       "    </tr>\n",
       "    <tr>\n",
       "      <th>2004</th>\n",
       "      <td>2000</td>\n",
       "      <td>Male</td>\n",
       "      <td>22</td>\n",
       "      <td>Boots</td>\n",
       "      <td>Footwear</td>\n",
       "      <td>15</td>\n",
       "      <td>Free Shipping</td>\n",
       "      <td>Entertainment</td>\n",
       "      <td>Yes</td>\n",
       "      <td>Summer</td>\n",
       "      <td>United States</td>\n",
       "    </tr>\n",
       "  </tbody>\n",
       "</table>\n",
       "</div>"
      ],
      "text/plain": [
       "      CustomerID  Gender  Age Items Purchased  Category  Purchase Amount  \\\n",
       "2000        1996  Female   22           Boots  Footwear               45   \n",
       "2001        1997  Female   22           Boots  Footwear               77   \n",
       "2002        1998    Male   22           Boots  Footwear               50   \n",
       "2003        1999    Male   22           Boots  Footwear               25   \n",
       "2004        2000    Male   22           Boots  Footwear               15   \n",
       "\n",
       "      Shipping Type     Profession Subscription Status  Season        Country  \n",
       "2000        Express         Artist                 Yes  Summer  United States  \n",
       "2001  Free Shipping         Doctor                 Yes  Summer         Brazil  \n",
       "2002   Next Day Air     Healthcare                 Yes  Summer  United States  \n",
       "2003        Express      Executive                 Yes  Summer         Brazil  \n",
       "2004  Free Shipping  Entertainment                 Yes  Summer  United States  "
      ]
     },
     "execution_count": 85,
     "metadata": {},
     "output_type": "execute_result"
    }
   ],
   "source": [
    "df.tail()"
   ]
  },
  {
   "cell_type": "markdown",
   "metadata": {},
   "source": [
    "#### here is dataset's shape (rows and columns):"
   ]
  },
  {
   "cell_type": "code",
   "execution_count": 86,
   "metadata": {},
   "outputs": [
    {
     "data": {
      "text/plain": [
       "(2005, 11)"
      ]
     },
     "execution_count": 86,
     "metadata": {},
     "output_type": "execute_result"
    }
   ],
   "source": [
    "df.shape"
   ]
  },
  {
   "cell_type": "markdown",
   "metadata": {},
   "source": [
    "#### columns in the dataset"
   ]
  },
  {
   "cell_type": "code",
   "execution_count": 87,
   "metadata": {},
   "outputs": [
    {
     "data": {
      "text/plain": [
       "Index(['CustomerID', 'Gender', 'Age', 'Items Purchased', 'Category',\n",
       "       'Purchase Amount', 'Shipping Type', 'Profession', 'Subscription Status',\n",
       "       'Season', 'Country'],\n",
       "      dtype='object')"
      ]
     },
     "execution_count": 87,
     "metadata": {},
     "output_type": "execute_result"
    }
   ],
   "source": [
    "df.columns"
   ]
  },
  {
   "cell_type": "markdown",
   "metadata": {},
   "source": [
    "### Cheking dataset's Data Types and Summary"
   ]
  },
  {
   "cell_type": "markdown",
   "metadata": {},
   "source": [
    "#### data types"
   ]
  },
  {
   "cell_type": "code",
   "execution_count": 88,
   "metadata": {},
   "outputs": [
    {
     "data": {
      "text/plain": [
       "CustomerID              int64\n",
       "Gender                 object\n",
       "Age                     int64\n",
       "Items Purchased        object\n",
       "Category               object\n",
       "Purchase Amount         int64\n",
       "Shipping Type          object\n",
       "Profession             object\n",
       "Subscription Status    object\n",
       "Season                 object\n",
       "Country                object\n",
       "dtype: object"
      ]
     },
     "execution_count": 88,
     "metadata": {},
     "output_type": "execute_result"
    }
   ],
   "source": [
    "df.dtypes"
   ]
  },
  {
   "cell_type": "markdown",
   "metadata": {},
   "source": [
    "#### summary statistics for numerical columns"
   ]
  },
  {
   "cell_type": "code",
   "execution_count": 89,
   "metadata": {},
   "outputs": [
    {
     "data": {
      "text/html": [
       "<div>\n",
       "<style scoped>\n",
       "    .dataframe tbody tr th:only-of-type {\n",
       "        vertical-align: middle;\n",
       "    }\n",
       "\n",
       "    .dataframe tbody tr th {\n",
       "        vertical-align: top;\n",
       "    }\n",
       "\n",
       "    .dataframe thead th {\n",
       "        text-align: right;\n",
       "    }\n",
       "</style>\n",
       "<table border=\"1\" class=\"dataframe\">\n",
       "  <thead>\n",
       "    <tr style=\"text-align: right;\">\n",
       "      <th></th>\n",
       "      <th>CustomerID</th>\n",
       "      <th>Age</th>\n",
       "      <th>Purchase Amount</th>\n",
       "    </tr>\n",
       "  </thead>\n",
       "  <tbody>\n",
       "    <tr>\n",
       "      <th>count</th>\n",
       "      <td>2005.000000</td>\n",
       "      <td>2005.000000</td>\n",
       "      <td>2005.000000</td>\n",
       "    </tr>\n",
       "    <tr>\n",
       "      <th>mean</th>\n",
       "      <td>998.214464</td>\n",
       "      <td>29.428928</td>\n",
       "      <td>52.585536</td>\n",
       "    </tr>\n",
       "    <tr>\n",
       "      <th>std</th>\n",
       "      <td>578.587377</td>\n",
       "      <td>13.050744</td>\n",
       "      <td>29.334591</td>\n",
       "    </tr>\n",
       "    <tr>\n",
       "      <th>min</th>\n",
       "      <td>1.000000</td>\n",
       "      <td>18.000000</td>\n",
       "      <td>12.000000</td>\n",
       "    </tr>\n",
       "    <tr>\n",
       "      <th>25%</th>\n",
       "      <td>497.000000</td>\n",
       "      <td>22.000000</td>\n",
       "      <td>23.000000</td>\n",
       "    </tr>\n",
       "    <tr>\n",
       "      <th>50%</th>\n",
       "      <td>998.000000</td>\n",
       "      <td>22.000000</td>\n",
       "      <td>50.000000</td>\n",
       "    </tr>\n",
       "    <tr>\n",
       "      <th>75%</th>\n",
       "      <td>1499.000000</td>\n",
       "      <td>33.000000</td>\n",
       "      <td>77.000000</td>\n",
       "    </tr>\n",
       "    <tr>\n",
       "      <th>max</th>\n",
       "      <td>2000.000000</td>\n",
       "      <td>74.000000</td>\n",
       "      <td>100.000000</td>\n",
       "    </tr>\n",
       "  </tbody>\n",
       "</table>\n",
       "</div>"
      ],
      "text/plain": [
       "        CustomerID          Age  Purchase Amount\n",
       "count  2005.000000  2005.000000      2005.000000\n",
       "mean    998.214464    29.428928        52.585536\n",
       "std     578.587377    13.050744        29.334591\n",
       "min       1.000000    18.000000        12.000000\n",
       "25%     497.000000    22.000000        23.000000\n",
       "50%     998.000000    22.000000        50.000000\n",
       "75%    1499.000000    33.000000        77.000000\n",
       "max    2000.000000    74.000000       100.000000"
      ]
     },
     "execution_count": 89,
     "metadata": {},
     "output_type": "execute_result"
    }
   ],
   "source": [
    "df.describe() "
   ]
  },
  {
   "cell_type": "markdown",
   "metadata": {},
   "source": [
    "#### here is detailed summary including non-numerical columns"
   ]
  },
  {
   "cell_type": "code",
   "execution_count": 90,
   "metadata": {},
   "outputs": [
    {
     "name": "stdout",
     "output_type": "stream",
     "text": [
      "<class 'pandas.core.frame.DataFrame'>\n",
      "RangeIndex: 2005 entries, 0 to 2004\n",
      "Data columns (total 11 columns):\n",
      " #   Column               Non-Null Count  Dtype \n",
      "---  ------               --------------  ----- \n",
      " 0   CustomerID           2005 non-null   int64 \n",
      " 1   Gender               2005 non-null   object\n",
      " 2   Age                  2005 non-null   int64 \n",
      " 3   Items Purchased      2005 non-null   object\n",
      " 4   Category             2005 non-null   object\n",
      " 5   Purchase Amount      2005 non-null   int64 \n",
      " 6   Shipping Type        2005 non-null   object\n",
      " 7   Profession           1970 non-null   object\n",
      " 8   Subscription Status  2005 non-null   object\n",
      " 9   Season               1976 non-null   object\n",
      " 10  Country              2005 non-null   object\n",
      "dtypes: int64(3), object(8)\n",
      "memory usage: 172.4+ KB\n"
     ]
    }
   ],
   "source": [
    "df.info()"
   ]
  },
  {
   "cell_type": "markdown",
   "metadata": {},
   "source": []
  },
  {
   "cell_type": "code",
   "execution_count": 91,
   "metadata": {},
   "outputs": [
    {
     "data": {
      "text/plain": [
       "['CustomerID',\n",
       " 'Gender',\n",
       " 'Age',\n",
       " 'Items Purchased',\n",
       " 'Category',\n",
       " 'Purchase Amount',\n",
       " 'Shipping Type',\n",
       " 'Profession',\n",
       " 'Subscription Status',\n",
       " 'Season',\n",
       " 'Country']"
      ]
     },
     "execution_count": 91,
     "metadata": {},
     "output_type": "execute_result"
    }
   ],
   "source": [
    "#We want to read all columns and check their names to avoid errors during out work\n",
    "df= pd.DataFrame (df)\n",
    "df.head()\n",
    "column_list = list(df.columns)\n",
    "column_list"
   ]
  },
  {
   "cell_type": "code",
   "execution_count": 92,
   "metadata": {},
   "outputs": [
    {
     "data": {
      "text/html": [
       "<div>\n",
       "<style scoped>\n",
       "    .dataframe tbody tr th:only-of-type {\n",
       "        vertical-align: middle;\n",
       "    }\n",
       "\n",
       "    .dataframe tbody tr th {\n",
       "        vertical-align: top;\n",
       "    }\n",
       "\n",
       "    .dataframe thead th {\n",
       "        text-align: right;\n",
       "    }\n",
       "</style>\n",
       "<table border=\"1\" class=\"dataframe\">\n",
       "  <thead>\n",
       "    <tr style=\"text-align: right;\">\n",
       "      <th></th>\n",
       "      <th>CustomerID</th>\n",
       "      <th>Gender</th>\n",
       "      <th>Age</th>\n",
       "      <th>Items Purchased</th>\n",
       "      <th>Category</th>\n",
       "      <th>Purchase Amount</th>\n",
       "      <th>Shipping Type</th>\n",
       "      <th>Subscription Status</th>\n",
       "      <th>Season</th>\n",
       "      <th>Country</th>\n",
       "    </tr>\n",
       "  </thead>\n",
       "  <tbody>\n",
       "    <tr>\n",
       "      <th>0</th>\n",
       "      <td>1</td>\n",
       "      <td>Male</td>\n",
       "      <td>18</td>\n",
       "      <td>Blouse</td>\n",
       "      <td>Clothing</td>\n",
       "      <td>50</td>\n",
       "      <td>Express</td>\n",
       "      <td>Yes</td>\n",
       "      <td>Spring</td>\n",
       "      <td>United States</td>\n",
       "    </tr>\n",
       "    <tr>\n",
       "      <th>1</th>\n",
       "      <td>2</td>\n",
       "      <td>Male</td>\n",
       "      <td>20</td>\n",
       "      <td>Sweater</td>\n",
       "      <td>Clothing</td>\n",
       "      <td>25</td>\n",
       "      <td>Free Shipping</td>\n",
       "      <td>No</td>\n",
       "      <td>Summer</td>\n",
       "      <td>United States</td>\n",
       "    </tr>\n",
       "    <tr>\n",
       "      <th>2</th>\n",
       "      <td>3</td>\n",
       "      <td>Female</td>\n",
       "      <td>35</td>\n",
       "      <td>Jeans</td>\n",
       "      <td>Clothing</td>\n",
       "      <td>15</td>\n",
       "      <td>Next Day Air</td>\n",
       "      <td>Yes</td>\n",
       "      <td>Fall</td>\n",
       "      <td>United States</td>\n",
       "    </tr>\n",
       "    <tr>\n",
       "      <th>3</th>\n",
       "      <td>4</td>\n",
       "      <td>Female</td>\n",
       "      <td>45</td>\n",
       "      <td>Sandals</td>\n",
       "      <td>Footwear</td>\n",
       "      <td>69</td>\n",
       "      <td>2-Day Shipping</td>\n",
       "      <td>No</td>\n",
       "      <td>Winter</td>\n",
       "      <td>United States</td>\n",
       "    </tr>\n",
       "    <tr>\n",
       "      <th>4</th>\n",
       "      <td>5</td>\n",
       "      <td>Female</td>\n",
       "      <td>60</td>\n",
       "      <td>Blouse</td>\n",
       "      <td>Clothing</td>\n",
       "      <td>85</td>\n",
       "      <td>2-Day Shipping</td>\n",
       "      <td>Yes</td>\n",
       "      <td>Winter</td>\n",
       "      <td>United States</td>\n",
       "    </tr>\n",
       "  </tbody>\n",
       "</table>\n",
       "</div>"
      ],
      "text/plain": [
       "   CustomerID  Gender  Age Items Purchased  Category  Purchase Amount  \\\n",
       "0           1    Male   18          Blouse  Clothing               50   \n",
       "1           2    Male   20         Sweater  Clothing               25   \n",
       "2           3  Female   35           Jeans  Clothing               15   \n",
       "3           4  Female   45         Sandals  Footwear               69   \n",
       "4           5  Female   60          Blouse  Clothing               85   \n",
       "\n",
       "    Shipping Type Subscription Status  Season        Country  \n",
       "0         Express                 Yes  Spring  United States  \n",
       "1   Free Shipping                  No  Summer  United States  \n",
       "2    Next Day Air                 Yes    Fall  United States  \n",
       "3  2-Day Shipping                  No  Winter  United States  \n",
       "4  2-Day Shipping                 Yes  Winter  United States  "
      ]
     },
     "execution_count": 92,
     "metadata": {},
     "output_type": "execute_result"
    }
   ],
   "source": [
    "#Drop column that is not needed in the analysis\n",
    "df.drop(columns=\"Profession\", inplace=True)\n",
    "df.head()"
   ]
  },
  {
   "cell_type": "markdown",
   "metadata": {},
   "source": [
    "#### creating the age group variable to the dataset"
   ]
  },
  {
   "cell_type": "code",
   "execution_count": 93,
   "metadata": {},
   "outputs": [
    {
     "name": "stdout",
     "output_type": "stream",
     "text": [
      "      CustomerID  Gender  Age Items Purchased  Category  Purchase Amount  \\\n",
      "0              1    Male   18          Blouse  Clothing               50   \n",
      "1              2    Male   20         Sweater  Clothing               25   \n",
      "2              3  Female   35           Jeans  Clothing               15   \n",
      "3              4  Female   45         Sandals  Footwear               69   \n",
      "4              5  Female   60          Blouse  Clothing               85   \n",
      "...          ...     ...  ...             ...       ...              ...   \n",
      "2000        1996  Female   22           Boots  Footwear               45   \n",
      "2001        1997  Female   22           Boots  Footwear               77   \n",
      "2002        1998    Male   22           Boots  Footwear               50   \n",
      "2003        1999    Male   22           Boots  Footwear               25   \n",
      "2004        2000    Male   22           Boots  Footwear               15   \n",
      "\n",
      "       Shipping Type Subscription Status  Season        Country Age Group  \n",
      "0            Express                 Yes  Spring  United States  Under 18  \n",
      "1      Free Shipping                  No  Summer  United States     18-24  \n",
      "2       Next Day Air                 Yes    Fall  United States     25-34  \n",
      "3     2-Day Shipping                  No  Winter  United States     35-44  \n",
      "4     2-Day Shipping                 Yes  Winter  United States     55-64  \n",
      "...              ...                 ...     ...            ...       ...  \n",
      "2000         Express                 Yes  Summer  United States     18-24  \n",
      "2001   Free Shipping                 Yes  Summer         Brazil     18-24  \n",
      "2002    Next Day Air                 Yes  Summer  United States     18-24  \n",
      "2003         Express                 Yes  Summer         Brazil     18-24  \n",
      "2004   Free Shipping                 Yes  Summer  United States     18-24  \n",
      "\n",
      "[2005 rows x 11 columns]\n"
     ]
    }
   ],
   "source": [
    "\n",
    "\n",
    "# Creating the 'Age Group' column\n",
    "df['Age Group'] = pd.cut(df['Age'], bins=[0, 18, 25, 35, 45, 55, 65, float('inf')],\n",
    "                         labels=['Under 18', '18-24', '25-34', '35-44', '45-54', '55-64', '65+'],\n",
    "                         include_lowest=True)\n",
    "\n",
    "# Displaying the dataframe with the new 'Age Group' column\n",
    "print(df)\n"
   ]
  },
  {
   "cell_type": "markdown",
   "metadata": {},
   "source": [
    "##### Checking for any N/A values"
   ]
  },
  {
   "cell_type": "code",
   "execution_count": 94,
   "metadata": {},
   "outputs": [
    {
     "data": {
      "text/plain": [
       "CustomerID              0\n",
       "Gender                  0\n",
       "Age                     0\n",
       "Items Purchased         0\n",
       "Category                0\n",
       "Purchase Amount         0\n",
       "Shipping Type           0\n",
       "Subscription Status     0\n",
       "Season                 29\n",
       "Country                 0\n",
       "Age Group               0\n",
       "dtype: int64"
      ]
     },
     "execution_count": 94,
     "metadata": {},
     "output_type": "execute_result"
    }
   ],
   "source": [
    "df.isna().sum()"
   ]
  },
  {
   "cell_type": "markdown",
   "metadata": {},
   "source": [
    "#### Dropping the N/A's in the Profession column"
   ]
  },
  {
   "cell_type": "code",
   "execution_count": 95,
   "metadata": {},
   "outputs": [],
   "source": [
    "df=df.dropna(subset=[\"Season\"])"
   ]
  },
  {
   "cell_type": "code",
   "execution_count": 96,
   "metadata": {},
   "outputs": [
    {
     "data": {
      "text/plain": [
       "CustomerID             0\n",
       "Gender                 0\n",
       "Age                    0\n",
       "Items Purchased        0\n",
       "Category               0\n",
       "Purchase Amount        0\n",
       "Shipping Type          0\n",
       "Subscription Status    0\n",
       "Season                 0\n",
       "Country                0\n",
       "Age Group              0\n",
       "dtype: int64"
      ]
     },
     "execution_count": 96,
     "metadata": {},
     "output_type": "execute_result"
    }
   ],
   "source": [
    "# Dropping the N/A's in the Profession column\n",
    "df.isna().sum()"
   ]
  },
  {
   "cell_type": "markdown",
   "metadata": {},
   "source": [
    "#### Cheking duplicates"
   ]
  },
  {
   "cell_type": "code",
   "execution_count": 97,
   "metadata": {},
   "outputs": [
    {
     "data": {
      "text/plain": [
       "np.int64(1)"
      ]
     },
     "execution_count": 97,
     "metadata": {},
     "output_type": "execute_result"
    }
   ],
   "source": [
    "df.duplicated().sum()"
   ]
  },
  {
   "cell_type": "code",
   "execution_count": 98,
   "metadata": {},
   "outputs": [
    {
     "data": {
      "text/plain": [
       "np.int64(5)"
      ]
     },
     "execution_count": 98,
     "metadata": {},
     "output_type": "execute_result"
    }
   ],
   "source": [
    "# Check the column for the duplicates. We will check for duplicated customer ID's\n",
    "df.duplicated('CustomerID').sum()"
   ]
  },
  {
   "cell_type": "code",
   "execution_count": 99,
   "metadata": {},
   "outputs": [
    {
     "data": {
      "text/plain": [
       "np.int64(0)"
      ]
     },
     "execution_count": 99,
     "metadata": {},
     "output_type": "execute_result"
    }
   ],
   "source": [
    "df.drop_duplicates(subset='CustomerID', inplace = True)\n",
    "df.duplicated('CustomerID').sum()"
   ]
  },
  {
   "cell_type": "code",
   "execution_count": 100,
   "metadata": {},
   "outputs": [
    {
     "data": {
      "text/plain": [
       "np.int64(0)"
      ]
     },
     "execution_count": 100,
     "metadata": {},
     "output_type": "execute_result"
    }
   ],
   "source": [
    "df.duplicated('CustomerID').sum()"
   ]
  },
  {
   "cell_type": "markdown",
   "metadata": {},
   "source": [
    "# Visualization"
   ]
  },
  {
   "cell_type": "code",
   "execution_count": 101,
   "metadata": {},
   "outputs": [
    {
     "data": {
      "text/plain": [
       "Text(0.5, 1.0, 'Customer Spending')"
      ]
     },
     "execution_count": 101,
     "metadata": {},
     "output_type": "execute_result"
    },
    {
     "data": {
      "image/png": "[encoded data removed]",
      "text/plain": [
       "<Figure size 600x400 with 1 Axes>"
      ]
     },
     "metadata": {},
     "output_type": "display_data"
    }
   ],
   "source": [
    "sns.set_style('darkgrid')\n",
    "plt.figure(figsize=(6,4))\n",
    "plt.pie(df['Gender'].value_counts(), labels= df['Gender'].value_counts().index, autopct= '%1.1f%%')\n",
    "plt.title('Customer Spending')"
   ]
  },
  {
   "cell_type": "markdown",
   "metadata": {},
   "source": [
    "### Enhanced Bar Chart\n",
    "##To make  bar chart visually appealing and enhance the aesthetics by adding features such as color gradients, gridlines, and better formatting for labels and the title. "
   ]
  },
  {
   "cell_type": "code",
   "execution_count": 102,
   "metadata": {},
   "outputs": [
    {
     "data": {
      "image/png": "[encoded data removed]",
      "text/plain": [
       "<Figure size 1200x800 with 1 Axes>"
      ]
     },
     "metadata": {},
     "output_type": "display_data"
    }
   ],
   "source": [
    "# Data for the bar chart\n",
    "item_counts = df['Items Purchased'].value_counts()\n",
    "\n",
    "# Create a figure\n",
    "plt.figure(figsize=(12, 8))\n",
    "\n",
    "# Plot with a color gradient\n",
    "colors = plt.cm.Paired(range(len(item_counts)))  # Use a colormap for color variation\n",
    "item_counts.plot(kind='bar', color=colors, edgecolor='black', linewidth=1.2)\n",
    "\n",
    "# Add a title and labels\n",
    "plt.title('Distribution of Items Purchased', fontsize=16, fontweight='bold', pad=20)\n",
    "plt.xlabel('Item Purchased', fontsize=14, labelpad=10)\n",
    "plt.ylabel('Count', fontsize=14, labelpad=10)\n",
    "\n",
    "# Customize x-ticks\n",
    "plt.xticks(rotation=45, ha='right', fontsize=12)\n",
    "plt.yticks(fontsize=12)\n",
    "\n",
    "# Add gridlines for readability\n",
    "plt.grid(axis='y', linestyle='--', linewidth=0.7, alpha=0.7)\n",
    "\n",
    "# Annotate the bars with values\n",
    "for index, value in enumerate(item_counts):\n",
    "    plt.text(index, value + 1, str(value), ha='center', fontsize=12, color='black')\n",
    "\n",
    "# Remove top and right spines\n",
    "plt.gca().spines['top'].set_visible(False)\n",
    "plt.gca().spines['right'].set_visible(False)\n",
    "\n",
    "# Show the plot\n",
    "plt.tight_layout()  # Adjust layout to fit everything nicely\n",
    "plt.show()\n"
   ]
  },
  {
   "cell_type": "markdown",
   "metadata": {},
   "source": [
    "### Enhanced Bar Chart"
   ]
  },
  {
   "cell_type": "code",
   "execution_count": 103,
   "metadata": {},
   "outputs": [
    {
     "data": {
      "image/png": "[encoded data removed]",
      "text/plain": [
       "<Figure size 1000x600 with 1 Axes>"
      ]
     },
     "metadata": {},
     "output_type": "display_data"
    }
   ],
   "source": [
    "category_counts = df['Category'].value_counts()\n",
    "\n",
    "plt.figure(figsize=(10, 6))\n",
    "bars = category_counts.plot(kind='bar', color=colors)\n",
    "\n",
    "for bar, count in zip(bars.patches, category_counts):\n",
    "    plt.text(bar.get_x() + bar.get_width() / 2 - 0.1, bar.get_height() + 0.05, str(count), fontsize=10)\n",
    "\n",
    "plt.title('Categories Distribution')\n",
    "plt.xlabel('Category')\n",
    "plt.ylabel('Count')\n",
    "plt.xticks(rotation=45, ha='right')  # Adjust rotation for better readability\n",
    "plt.show()\n"
   ]
  },
  {
   "cell_type": "markdown",
   "metadata": {},
   "source": [
    "### Creating the pie chart by Season Distribution"
   ]
  },
  {
   "cell_type": "code",
   "execution_count": 104,
   "metadata": {},
   "outputs": [
    {
     "data": {
      "image/png": "[encoded data removed]",
      "text/plain": [
       "<Figure size 700x700 with 1 Axes>"
      ]
     },
     "metadata": {},
     "output_type": "display_data"
    }
   ],
   "source": [
    "season_counts = df['Season'].value_counts()\n",
    "\n",
    "plt.figure(figsize=(7, 7))\n",
    "plt.pie(season_counts, labels=season_counts.index, autopct='%1.1f%%', colors=colors, startangle=90)\n",
    "plt.title('Season Distribution')\n",
    "plt.axis('equal')  # Equal aspect ratio ensures that the pie chart is circular.\n",
    "\n",
    "plt.show()\n"
   ]
  },
  {
   "cell_type": "markdown",
   "metadata": {},
   "source": [
    "### Creating the barchart by Age group distribution"
   ]
  },
  {
   "cell_type": "code",
   "execution_count": 105,
   "metadata": {},
   "outputs": [
    {
     "data": {
      "image/png": "[encoded data removed]",
      "text/plain": [
       "<Figure size 1000x600 with 1 Axes>"
      ]
     },
     "metadata": {},
     "output_type": "display_data"
    }
   ],
   "source": [
    "age_group_counts = df['Age Group'].value_counts()\n",
    "\n",
    "plt.figure(figsize=(10, 6))\n",
    "bars = age_group_counts.plot(kind='bar', color=colors)\n",
    "\n",
    "for bar, count in zip(bars.patches, age_group_counts):\n",
    "    plt.text(bar.get_x() + bar.get_width() / 2 - 0.1, bar.get_height() + 0.05, str(count), fontsize=10)\n",
    "\n",
    "plt.title('Age Group Distribution')\n",
    "plt.xlabel('Age Group')\n",
    "plt.ylabel('Count')\n",
    "plt.xticks(rotation=45, ha='right')  # Adjust rotation for better readability\n",
    "plt.show()\n"
   ]
  },
  {
   "cell_type": "markdown",
   "metadata": {},
   "source": [
    "### Creating the barchart with Age Group Distribution based on Gender"
   ]
  },
  {
   "cell_type": "code",
   "execution_count": 106,
   "metadata": {},
   "outputs": [
    {
     "name": "stderr",
     "output_type": "stream",
     "text": [
      "C:\\Users\\shekharram\\AppData\\Local\\Temp\\ipykernel_8072\\1229991971.py:1: FutureWarning:\n",
      "\n",
      "The default value of observed=False is deprecated and will change to observed=True in a future version of pandas. Specify observed=False to silence this warning and retain the current behavior\n",
      "\n"
     ]
    },
    {
     "data": {
      "image/png": "[encoded data removed]",
      "text/plain": [
       "<Figure size 1000x600 with 1 Axes>"
      ]
     },
     "metadata": {},
     "output_type": "display_data"
    }
   ],
   "source": [
    "pivot_df = df.pivot_table(index='Age Group', columns='Gender', aggfunc='size', fill_value=0)\n",
    "\n",
    "# Plot grouped bar chart\n",
    "ax = pivot_df.plot(kind='bar', color=['skyblue', 'lightcoral'], figsize=(10, 6))\n",
    "\n",
    "ax.set_title('Age Group Distribution Based on Gender')\n",
    "ax.set_xlabel('Age Group')\n",
    "ax.set_ylabel('Count')\n",
    "ax.legend(title='Gender')\n",
    "\n",
    "plt.show()\n",
    "\n"
   ]
  }
 ],
 "metadata": {
  "kernelspec": {
   "display_name": "Python 3",
   "language": "python",
   "name": "python3"
  },
  "language_info": {
   "codemirror_mode": {
    "name": "ipython",
    "version": 3
   },
   "file_extension": ".py",
   "mimetype": "text/x-python",
   "name": "python",
   "nbconvert_exporter": "python",
   "pygments_lexer": "ipython3",
   "version": "3.12.5"
  }
 },
 "nbformat": 4,
 "nbformat_minor": 2
}
